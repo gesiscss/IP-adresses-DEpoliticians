{
 "cells": [
  {
   "cell_type": "code",
   "execution_count": null,
   "metadata": {
    "collapsed": true
   },
   "outputs": [],
   "source": [
    "import pandas as pd\n",
    "import requests\n",
    "from collections import defaultdict\n",
    "from tqdm import tqdm, tqdm_pandas\n",
    "tqdm.pandas()"
   ]
  },
  {
   "cell_type": "code",
   "execution_count": null,
   "metadata": {
    "collapsed": true
   },
   "outputs": [],
   "source": [
    "df_officials = pd.DataFrame.from_csv('../RIPE/RIPE_officials_total_actions.csv', index_col=0)"
   ]
  },
  {
   "cell_type": "code",
   "execution_count": null,
   "metadata": {
    "collapsed": true
   },
   "outputs": [],
   "source": [
    "df_articles = pd.DataFrame(df_officials['article_id'].unique(), columns=['article_id'])"
   ]
  },
  {
   "cell_type": "code",
   "execution_count": null,
   "metadata": {
    "collapsed": true
   },
   "outputs": [],
   "source": [
    "dict_articles = defaultdict(list)"
   ]
  },
  {
   "cell_type": "code",
   "execution_count": null,
   "metadata": {
    "collapsed": true,
    "scrolled": true
   },
   "outputs": [],
   "source": [
    "%%time\n",
    "articles = df_articles['article_id'].unique()\n",
    "for i in range(0,len(articles),20):\n",
    "    ids = \"|\".join(map(str,articles[i:i+20]))\n",
    "    r = requests.get('https://de.wikipedia.org/w/api.php?action=query&pageids={}&prop=categories&format=json&cllimit=max'.format(ids))  \n",
    "    resp = r.json()\n",
    "    if \"batchcomplete\" not in resp:\n",
    "        print(\"NOT COMPLETE!\")\n",
    "    pages = resp['query']['pages']\n",
    "    for page_id,data in pages.items():\n",
    "        categories = []\n",
    "        if 'categories' in data:\n",
    "            for category in data['categories']:\n",
    "                categories.append(category['title'])\n",
    "            dict_articles[page_id].extend(categories)"
   ]
  },
  {
   "cell_type": "code",
   "execution_count": null,
   "metadata": {
    "collapsed": true
   },
   "outputs": [],
   "source": [
    "def politik_in_categories(article_id):\n",
    "    for cat in dict_articles[str(article_id)]:\n",
    "        if 'politik' in cat.lower():\n",
    "            return True\n",
    "    return False"
   ]
  },
  {
   "cell_type": "code",
   "execution_count": null,
   "metadata": {
    "collapsed": true
   },
   "outputs": [],
   "source": [
    "df_articles['politik'] = df_articles['article_id'].apply(politik_in_categories)"
   ]
  },
  {
   "cell_type": "code",
   "execution_count": null,
   "metadata": {
    "collapsed": true
   },
   "outputs": [],
   "source": [
    "df_articles['politik'].value_counts()"
   ]
  },
  {
   "cell_type": "code",
   "execution_count": null,
   "metadata": {
    "collapsed": true
   },
   "outputs": [],
   "source": [
    "df_articles.to_csv('article_id, category(politik).csv')"
   ]
  }
 ],
 "metadata": {
  "kernelspec": {
   "display_name": "Python [conda env:cwwa3]",
   "language": "python",
   "name": "conda-env-cwwa3-py"
  },
  "language_info": {
   "codemirror_mode": {
    "name": "ipython",
    "version": 3
   },
   "file_extension": ".py",
   "mimetype": "text/x-python",
   "name": "python",
   "nbconvert_exporter": "python",
   "pygments_lexer": "ipython3",
   "version": "3.5.3"
  },
  "toc": {
   "nav_menu": {
    "height": "12px",
    "width": "252px"
   },
   "navigate_menu": true,
   "number_sections": true,
   "sideBar": true,
   "threshold": 4,
   "toc_cell": false,
   "toc_section_display": "block",
   "toc_window_display": false
  }
 },
 "nbformat": 4,
 "nbformat_minor": 2
}
