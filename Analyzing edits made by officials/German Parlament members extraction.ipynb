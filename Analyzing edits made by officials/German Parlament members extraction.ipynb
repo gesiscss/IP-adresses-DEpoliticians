{
 "cells": [
  {
   "cell_type": "code",
   "execution_count": 1,
   "metadata": {
    "collapsed": true
   },
   "outputs": [],
   "source": [
    "import pandas as pd\n",
    "from bs4 import BeautifulSoup\n",
    "import requests"
   ]
  },
  {
   "cell_type": "code",
   "execution_count": 89,
   "metadata": {
    "collapsed": true
   },
   "outputs": [],
   "source": [
    "period = lambda x: \"https://de.wikipedia.org/wiki/Liste_der_Mitglieder_des_Deutschen_Bundestages_({}._Wahlperiode)\".format(x)"
   ]
  },
  {
   "cell_type": "code",
   "execution_count": 107,
   "metadata": {
    "collapsed": true
   },
   "outputs": [],
   "source": [
    "PMs= []\n",
    "for i in range(15,19):\n",
    "    r = requests.get(period(i))\n",
    "    soup = BeautifulSoup(r.text, \"lxml\")\n",
    "    table = soup.findAll('table')[1]\n",
    "    for row in table.findAll('tr')[1:]:\n",
    "        try:\n",
    "            first_column = row.findAll('td')[0]\n",
    "            PMs.append(first_column.a['href'])\n",
    "        except KeyError as e:\n",
    "            print(e)\n",
    "            print(first_column[0])"
   ]
  },
  {
   "cell_type": "code",
   "execution_count": 109,
   "metadata": {
    "collapsed": true
   },
   "outputs": [],
   "source": [
    "r = requests.get(period(19))\n",
    "soup = BeautifulSoup(r.text, \"lxml\")\n",
    "table = soup.findAll('table')[2]\n",
    "for row in table.findAll('tr')[1:]:\n",
    "    try:\n",
    "        first_column = row.findAll('td')[1]\n",
    "        PMs.append(first_column.a['href'])\n",
    "    except KeyError as e:\n",
    "        print(e)\n",
    "        print(first_column[0])"
   ]
  },
  {
   "cell_type": "code",
   "execution_count": 115,
   "metadata": {
    "collapsed": true
   },
   "outputs": [],
   "source": [
    "df = pd.DataFrame(PMs, columns=['pm_link'])"
   ]
  },
  {
   "cell_type": "code",
   "execution_count": 136,
   "metadata": {
    "collapsed": true
   },
   "outputs": [],
   "source": [
    "def wiki_url_to_id(url):\n",
    "    r = requests.get(query_page_id(url[6:]))\n",
    "    return next(iter(r.json()['query']['pages']))"
   ]
  },
  {
   "cell_type": "code",
   "execution_count": 138,
   "metadata": {
    "collapsed": true
   },
   "outputs": [],
   "source": [
    "query_page_id = lambda x: \"https://de.wikipedia.org/w/api.php?action=query&titles={}&format=json\".format(x)\n",
    "df['page_id'] = df['pm_link'].apply(wiki_url_to_id)  "
   ]
  },
  {
   "cell_type": "code",
   "execution_count": 140,
   "metadata": {
    "collapsed": true
   },
   "outputs": [],
   "source": [
    "df.to_csv('pm_link, page_id.csv')"
   ]
  }
 ],
 "metadata": {
  "kernelspec": {
   "display_name": "Python [conda env:cwwa3]",
   "language": "python",
   "name": "conda-env-cwwa3-py"
  },
  "language_info": {
   "codemirror_mode": {
    "name": "ipython",
    "version": 3
   },
   "file_extension": ".py",
   "mimetype": "text/x-python",
   "name": "python",
   "nbconvert_exporter": "python",
   "pygments_lexer": "ipython3",
   "version": "3.5.3"
  },
  "toc": {
   "nav_menu": {
    "height": "12px",
    "width": "252px"
   },
   "navigate_menu": true,
   "number_sections": true,
   "sideBar": true,
   "threshold": 4,
   "toc_cell": false,
   "toc_section_display": "block",
   "toc_window_display": false
  }
 },
 "nbformat": 4,
 "nbformat_minor": 2
}
