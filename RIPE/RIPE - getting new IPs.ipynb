{
 "cells": [
  {
   "cell_type": "code",
   "execution_count": 1,
   "metadata": {
    "collapsed": true
   },
   "outputs": [],
   "source": [
    "import requests as r\n",
    "import traceback\n",
    "import re\n",
    "import pandas as pd\n",
    "import time\n",
    "import json"
   ]
  },
  {
   "cell_type": "markdown",
   "metadata": {},
   "source": [
    "### Download RIPE data about the bund-networks"
   ]
  },
  {
   "cell_type": "code",
   "execution_count": 2,
   "metadata": {
    "collapsed": true
   },
   "outputs": [],
   "source": [
    "bund_nets = json.load(open('../bund-networks.json'))"
   ]
  },
  {
   "cell_type": "code",
   "execution_count": 3,
   "metadata": {
    "collapsed": true
   },
   "outputs": [],
   "source": [
    "bund_data = []"
   ]
  },
  {
   "cell_type": "code",
   "execution_count": 7,
   "metadata": {
    "collapsed": true
   },
   "outputs": [],
   "source": [
    "def params_no_enc(params):\n",
    "    params = \"&\".join(\"{}={}\".format(k,v) for k,v in params.items())\n",
    "    return params"
   ]
  },
  {
   "cell_type": "code",
   "execution_count": 8,
   "metadata": {
    "collapsed": true
   },
   "outputs": [],
   "source": [
    "def get_data_for_ip(ip_addr):\n",
    "    headers = {'Accept': 'application/json'}\n",
    "    params = {\n",
    "        'facet': 'true',\n",
    "        'hl': 'true',\n",
    "        'q': '(inetnum:({})+OR+netname:({}))+AND+(country:(DE))+AND+(object-type:inet6num+OR+object-type:inetnum)'.format(ip_addr, ip_addr),\n",
    "        'start': '0',\n",
    "        'wt': 'json'\n",
    "    }\n",
    "    url = 'https://apps.db.ripe.net/db-web-ui/api/rest/fulltextsearch/select'\n",
    "    resp = r.get(url, headers=headers, params=params_no_enc(params))\n",
    "    data = resp.json()\n",
    "    new_data = data['result']['docs']\n",
    "    numFound = data['result']['numFound']\n",
    "    print(\"Number of entries found for {}:{}\".format(ip_addr, numFound))\n",
    "    if numFound == 0:\n",
    "        return []\n",
    "    for i in range(10,int(numFound)+1,10):\n",
    "        params['start'] = str(i)\n",
    "        resp = r.get(url, headers=headers, params=params_no_enc(params))\n",
    "        data = resp.json()\n",
    "        new_data.extend(data['result']['docs'])\n",
    "    print(\"Results downloaded: \", len(new_data))\n",
    "    time.sleep(1)\n",
    "    return new_data"
   ]
  },
  {
   "cell_type": "code",
   "execution_count": 9,
   "metadata": {
    "collapsed": true
   },
   "outputs": [],
   "source": [
    "def get_dict_from_res(doc):\n",
    "    ip_range = {}\n",
    "    institution = doc[1]\n",
    "    ip_range['bund_networks'] = institution\n",
    "    doc = doc[0]\n",
    "    if doc == []:\n",
    "        return ip_range\n",
    "    doc =  doc[0]['doc']['strs']\n",
    "    ip_range['descr'] = ''\n",
    "    for elem in doc:\n",
    "        if elem['str']['name'] == 'descr':\n",
    "            ip_range['descr'] = ip_range['descr'] + elem['str']['value'] + '|'\n",
    "            continue\n",
    "        ip_range[elem['str']['name']] = elem['str']['value']\n",
    "    return ip_range"
   ]
  },
  {
   "cell_type": "code",
   "execution_count": 7,
   "metadata": {},
   "outputs": [
    {
     "name": "stdout",
     "output_type": "stream",
     "text": [
      "Number of entries found for 212.122.48.192:1\n",
      "Results downloaded:  1\n",
      "Number of entries found for 193.24.128.0:1\n",
      "Results downloaded:  1\n",
      "Number of entries found for 80.245.144.0:2\n",
      "Results downloaded:  2\n",
      "Number of entries found for 80.245.148.0:1\n",
      "Results downloaded:  1\n",
      "Number of entries found for 217.5.178.16:1\n",
      "Results downloaded:  1\n",
      "Number of entries found for 193.102.16.0:0\n",
      "Number of entries found for 77.74.239.64:1\n",
      "Results downloaded:  1\n",
      "Number of entries found for 193.17.232.0:1\n",
      "Results downloaded:  1\n",
      "Number of entries found for 194.31.194.0:0\n",
      "Number of entries found for 139.11.0.0:1\n",
      "Results downloaded:  1\n",
      "Number of entries found for 62.159.95.48:1\n",
      "Results downloaded:  1\n",
      "Number of entries found for 62.159.102.80:0\n",
      "Number of entries found for 80.149.172.0:1\n",
      "Results downloaded:  1\n",
      "Number of entries found for 80.150.149.24:1\n",
      "Results downloaded:  1\n",
      "Number of entries found for 80.154.114.160:1\n",
      "Results downloaded:  1\n",
      "Number of entries found for 80.157.135.16:1\n",
      "Results downloaded:  1\n",
      "Number of entries found for 217.6.126.0:1\n",
      "Results downloaded:  1\n",
      "Number of entries found for 217.89.77.120:1\n",
      "Results downloaded:  1\n",
      "Number of entries found for 83.236.157.240:1\n",
      "Results downloaded:  1\n",
      "Number of entries found for 212.202.252.156:1\n",
      "Results downloaded:  1\n",
      "Number of entries found for 193.197.84.0:1\n",
      "Results downloaded:  1\n",
      "Number of entries found for 194.95.119.0:1\n",
      "Results downloaded:  1\n",
      "Number of entries found for 171.33.185.144:1\n",
      "Results downloaded:  1\n",
      "Number of entries found for 195.243.220.192:1\n",
      "Results downloaded:  1\n",
      "Number of entries found for 62.145.0.188:0\n",
      "Number of entries found for 217.7.62.208:1\n",
      "Results downloaded:  1\n",
      "Number of entries found for 194.76.227.0:0\n",
      "Number of entries found for 141.74.0.0:1\n",
      "Results downloaded:  1\n",
      "Number of entries found for 193.174.164.0:1\n",
      "Results downloaded:  1\n",
      "Number of entries found for 193.174.230.0:1\n",
      "Results downloaded:  1\n",
      "Number of entries found for 193.174.231.0:1\n",
      "Results downloaded:  1\n",
      "Number of entries found for 193.175.170.0:1\n",
      "Results downloaded:  1\n",
      "Number of entries found for 194.94.68.0:1\n",
      "Results downloaded:  1\n",
      "Number of entries found for 195.37.146.0:1\n",
      "Results downloaded:  1\n",
      "Number of entries found for 212.185.175.120:1\n",
      "Results downloaded:  1\n",
      "Number of entries found for 217.6.198.64:1\n",
      "Results downloaded:  1\n",
      "Number of entries found for 192.124.251.0:1\n",
      "Results downloaded:  1\n",
      "Number of entries found for 217.237.175.112:1\n",
      "Results downloaded:  1\n",
      "Number of entries found for 62.153.205.224:1\n",
      "Results downloaded:  1\n",
      "Number of entries found for 77.74.237.0:1\n",
      "Results downloaded:  1\n",
      "Number of entries found for 194.25.141.216:1\n",
      "Results downloaded:  1\n",
      "Number of entries found for 195.243.136.112:1\n",
      "Results downloaded:  1\n",
      "Number of entries found for 213.61.116.8:1\n",
      "Results downloaded:  1\n",
      "Number of entries found for 217.110.186.216:1\n",
      "Results downloaded:  1\n",
      "Number of entries found for 217.244.6.32:1\n",
      "Results downloaded:  1\n",
      "Number of entries found for 31.12.32.0:2\n",
      "Results downloaded:  2\n",
      "Number of entries found for 81.160.0.0:1\n",
      "Results downloaded:  1\n",
      "Number of entries found for 217.89.43.88:1\n",
      "Results downloaded:  1\n",
      "Number of entries found for 87.234.223.159:1\n",
      "Results downloaded:  1\n",
      "Number of entries found for 137.193.0.0:1\n",
      "Results downloaded:  1\n",
      "Number of entries found for 192.124.252.0:1\n",
      "Results downloaded:  1\n",
      "Number of entries found for 194.8.203.112:1\n",
      "Results downloaded:  1\n",
      "Number of entries found for 217.69.82.80:1\n",
      "Results downloaded:  1\n",
      "Number of entries found for 193.175.216.0:1\n",
      "Results downloaded:  1\n",
      "Number of entries found for 193.175.254.0:1\n",
      "Results downloaded:  1\n",
      "Number of entries found for 194.94.88.0:1\n",
      "Results downloaded:  1\n",
      "Number of entries found for 194.95.250.32:1\n",
      "Results downloaded:  1\n",
      "Number of entries found for 62.96.129.16:1\n",
      "Results downloaded:  1\n",
      "Number of entries found for 87.79.38.128:1\n",
      "Results downloaded:  1\n",
      "Number of entries found for 213.61.119.240:0\n",
      "Number of entries found for 213.168.127.72:0\n",
      "Number of entries found for 217.110.79.16:1\n",
      "Results downloaded:  1\n",
      "Number of entries found for 195.37.181.192:1\n",
      "Results downloaded:  1\n",
      "Number of entries found for 195.37.184.96:1\n",
      "Results downloaded:  1\n",
      "Number of entries found for 195.37.231.8:1\n",
      "Results downloaded:  1\n",
      "Number of entries found for 213.71.10.120:1\n",
      "Results downloaded:  1\n",
      "Number of entries found for 213.71.142.160:1\n",
      "Results downloaded:  1\n",
      "Number of entries found for 62.50.36.72:0\n",
      "Number of entries found for 62.50.43.184:0\n",
      "Number of entries found for 62.50.45.48:0\n",
      "Number of entries found for 77.87.224.0:1\n",
      "Results downloaded:  1\n",
      "Number of entries found for 80.157.7.64:1\n",
      "Results downloaded:  1\n",
      "Number of entries found for 93.187.113.0:1\n",
      "Results downloaded:  1\n",
      "Number of entries found for 194.94.208.0:1\n",
      "Results downloaded:  1\n",
      "Number of entries found for 195.37.231.192:1\n",
      "Results downloaded:  1\n",
      "Number of entries found for 195.227.15.176:1\n",
      "Results downloaded:  1\n",
      "Number of entries found for 195.227.63.0:1\n",
      "Results downloaded:  1\n",
      "Number of entries found for 195.37.61.212:1\n",
      "Results downloaded:  1\n",
      "Number of entries found for 62.154.254.64:1\n",
      "Results downloaded:  1\n",
      "Number of entries found for 194.25.174.112:1\n",
      "Results downloaded:  1\n",
      "Number of entries found for 195.127.210.128:1\n",
      "Results downloaded:  1\n",
      "Number of entries found for 193.175.81.0:1\n",
      "Results downloaded:  1\n",
      "Number of entries found for 62.153.208.72:1\n",
      "Results downloaded:  1\n",
      "Number of entries found for 193.17.176.0:0\n",
      "Number of entries found for 194.76.200.0:0\n",
      "Number of entries found for 217.76.99.160:1\n",
      "Results downloaded:  1\n",
      "Number of entries found for 217.76.104.144:1\n",
      "Results downloaded:  1\n",
      "Number of entries found for 195.37.186.16:1\n",
      "Results downloaded:  1\n",
      "Number of entries found for 195.37.186.176:1\n",
      "Results downloaded:  1\n",
      "Number of entries found for 141.17.0.0:1\n",
      "Results downloaded:  1\n",
      "Number of entries found for 194.8.220.208:1\n",
      "Results downloaded:  1\n",
      "Number of entries found for 193.174.168.0:1\n",
      "Results downloaded:  1\n",
      "Number of entries found for 194.76.151.0:1\n",
      "Results downloaded:  1\n",
      "Number of entries found for 194.156.216.0:1\n",
      "Results downloaded:  1\n",
      "Number of entries found for 195.126.31.0:1\n",
      "Results downloaded:  1\n",
      "Number of entries found for 80.146.186.80:0\n",
      "Number of entries found for 195.243.81.0:0\n",
      "Number of entries found for 194.94.100.0:1\n",
      "Results downloaded:  1\n",
      "Number of entries found for 195.37.130.0:1\n",
      "Results downloaded:  1\n",
      "Number of entries found for 81.14.180.128:1\n",
      "Results downloaded:  1\n",
      "Number of entries found for 192.108.34.0:1\n",
      "Results downloaded:  1\n",
      "Number of entries found for 193.22.112.0:1\n",
      "Results downloaded:  1\n",
      "Number of entries found for 91.221.58.0:1\n",
      "Results downloaded:  1\n",
      "Number of entries found for 195.37.144.0:1\n",
      "Results downloaded:  1\n",
      "Number of entries found for 195.37.100.0:1\n",
      "Results downloaded:  1\n"
     ]
    }
   ],
   "source": [
    "for institution, range_list in bund_nets.items():\n",
    "    for ip_range in range_list:\n",
    "        bund_data.append((get_data_for_ip(ip_range[0]), institution))"
   ]
  },
  {
   "cell_type": "code",
   "execution_count": 8,
   "metadata": {
    "collapsed": true,
    "scrolled": true
   },
   "outputs": [],
   "source": [
    "bund_data_parsed = [get_dict_from_res(x) for x in bund_data]\n",
    "\n",
    "bund_data_df = pd.DataFrame(bund_data_parsed)"
   ]
  },
  {
   "cell_type": "code",
   "execution_count": 9,
   "metadata": {
    "collapsed": true
   },
   "outputs": [],
   "source": [
    "bund_data_end = []"
   ]
  },
  {
   "cell_type": "code",
   "execution_count": 11,
   "metadata": {},
   "outputs": [
    {
     "name": "stdout",
     "output_type": "stream",
     "text": [
      "Number of entries found for 212.122.48.199:1\n",
      "Results downloaded:  1\n",
      "Number of entries found for 193.24.191.255:1\n",
      "Results downloaded:  1\n",
      "Number of entries found for 80.245.159.255:2\n",
      "Results downloaded:  2\n",
      "Number of entries found for 80.245.151.255:1\n",
      "Results downloaded:  1\n",
      "Number of entries found for 217.5.178.31:1\n",
      "Results downloaded:  1\n",
      "Number of entries found for 193.102.16.255:0\n",
      "Number of entries found for 77.74.239.79:1\n",
      "Results downloaded:  1\n",
      "Number of entries found for 193.17.247.255:1\n",
      "Results downloaded:  1\n",
      "Number of entries found for 194.31.194.255:0\n",
      "Number of entries found for 139.11.255.255:1\n",
      "Results downloaded:  1\n",
      "Number of entries found for 62.159.95.55:1\n",
      "Results downloaded:  1\n",
      "Number of entries found for 62.159.102.87:0\n",
      "Number of entries found for 80.149.172.15:1\n",
      "Results downloaded:  1\n",
      "Number of entries found for 80.150.149.31:1\n",
      "Results downloaded:  1\n",
      "Number of entries found for 80.154.114.175:1\n",
      "Results downloaded:  1\n",
      "Number of entries found for 80.157.135.23:1\n",
      "Results downloaded:  1\n",
      "Number of entries found for 217.6.126.7:1\n",
      "Results downloaded:  1\n",
      "Number of entries found for 217.89.77.127:1\n",
      "Results downloaded:  1\n",
      "Number of entries found for 83.236.157.247:1\n",
      "Results downloaded:  1\n",
      "Number of entries found for 212.202.252.156:1\n",
      "Results downloaded:  1\n",
      "Number of entries found for 193.197.84.7:1\n",
      "Results downloaded:  1\n",
      "Number of entries found for 194.95.119.255:1\n",
      "Results downloaded:  1\n",
      "Number of entries found for 171.33.185.159:1\n",
      "Results downloaded:  1\n",
      "Number of entries found for 195.243.220.207:1\n",
      "Results downloaded:  1\n",
      "Number of entries found for 62.145.0.207:0\n",
      "Number of entries found for 217.7.62.215:1\n",
      "Results downloaded:  1\n",
      "Number of entries found for 194.76.227.255:0\n",
      "Number of entries found for 141.74.255.255:1\n",
      "Results downloaded:  1\n",
      "Number of entries found for 193.174.166.255:1\n",
      "Results downloaded:  1\n",
      "Number of entries found for 193.174.230.255:1\n",
      "Results downloaded:  1\n",
      "Number of entries found for 193.174.231.255:1\n",
      "Results downloaded:  1\n",
      "Number of entries found for 193.175.170.255:1\n",
      "Results downloaded:  1\n",
      "Number of entries found for 194.94.69.255:1\n",
      "Results downloaded:  1\n",
      "Number of entries found for 195.37.146.255:1\n",
      "Results downloaded:  1\n",
      "Number of entries found for 212.185.175.127:1\n",
      "Results downloaded:  1\n",
      "Number of entries found for 217.6.198.127:1\n",
      "Results downloaded:  1\n",
      "Number of entries found for 192.124.251.255:1\n",
      "Results downloaded:  1\n",
      "Number of entries found for 217.237.175.119:1\n",
      "Results downloaded:  1\n",
      "Number of entries found for 62.153.205.231:1\n",
      "Results downloaded:  1\n",
      "Number of entries found for 77.74.237.63:1\n",
      "Results downloaded:  1\n",
      "Number of entries found for 194.25.141.223:1\n",
      "Results downloaded:  1\n",
      "Number of entries found for 195.243.136.119:1\n",
      "Results downloaded:  1\n",
      "Number of entries found for 213.61.116.15:1\n",
      "Results downloaded:  1\n",
      "Number of entries found for 217.110.186.223:1\n",
      "Results downloaded:  1\n",
      "Number of entries found for 217.244.6.39:1\n",
      "Results downloaded:  1\n",
      "Number of entries found for 31.12.63.255:2\n",
      "Results downloaded:  2\n",
      "Number of entries found for 81.160.127.255:1\n",
      "Results downloaded:  1\n",
      "Number of entries found for 217.89.43.95:1\n",
      "Results downloaded:  1\n",
      "Number of entries found for 87.234.223.159:1\n",
      "Results downloaded:  1\n",
      "Number of entries found for 137.193.255.255:1\n",
      "Results downloaded:  1\n",
      "Number of entries found for 192.124.252.255:1\n",
      "Results downloaded:  1\n",
      "Number of entries found for 194.8.203.127:1\n",
      "Results downloaded:  1\n",
      "Number of entries found for 217.69.82.95:1\n",
      "Results downloaded:  1\n",
      "Number of entries found for 193.175.216.255:1\n",
      "Results downloaded:  1\n",
      "Number of entries found for 193.175.254.255:1\n",
      "Results downloaded:  1\n",
      "Number of entries found for 194.94.95.255:1\n",
      "Results downloaded:  1\n",
      "Number of entries found for 194.95.250.47:1\n",
      "Results downloaded:  1\n",
      "Number of entries found for 62.96.129.23:1\n",
      "Results downloaded:  1\n",
      "Number of entries found for 87.79.38.143:1\n",
      "Results downloaded:  1\n",
      "Number of entries found for 213.61.119.247:0\n",
      "Number of entries found for 213.168.127.79:0\n",
      "Number of entries found for 217.110.79.31:1\n",
      "Results downloaded:  1\n",
      "Number of entries found for 195.37.181.223:1\n",
      "Results downloaded:  1\n",
      "Number of entries found for 195.37.184.119:1\n",
      "Results downloaded:  1\n",
      "Number of entries found for 195.37.231.15:1\n",
      "Results downloaded:  1\n",
      "Number of entries found for 213.71.10.123:1\n",
      "Results downloaded:  1\n",
      "Number of entries found for 213.71.142.191:1\n",
      "Results downloaded:  1\n",
      "Number of entries found for 62.50.36.79:0\n",
      "Number of entries found for 62.50.43.191:0\n",
      "Number of entries found for 62.50.45.63:0\n",
      "Number of entries found for 77.87.231.255:1\n",
      "Results downloaded:  1\n",
      "Number of entries found for 80.157.7.71:1\n",
      "Results downloaded:  1\n",
      "Number of entries found for 93.187.113.15:1\n",
      "Results downloaded:  1\n",
      "Number of entries found for 194.94.208.255:1\n",
      "Results downloaded:  1\n",
      "Number of entries found for 195.37.231.207:1\n",
      "Results downloaded:  1\n",
      "Number of entries found for 195.227.15.191:1\n",
      "Results downloaded:  1\n",
      "Number of entries found for 195.227.63.7:1\n",
      "Results downloaded:  1\n",
      "Number of entries found for 195.37.61.215:1\n",
      "Results downloaded:  1\n",
      "Number of entries found for 62.154.254.71:1\n",
      "Results downloaded:  1\n",
      "Number of entries found for 194.25.174.119:1\n",
      "Results downloaded:  1\n",
      "Number of entries found for 195.127.210.159:1\n",
      "Results downloaded:  1\n",
      "Number of entries found for 193.175.81.255:1\n",
      "Results downloaded:  1\n",
      "Number of entries found for 62.153.208.79:1\n",
      "Results downloaded:  1\n",
      "Number of entries found for 193.17.177.255:0\n",
      "Number of entries found for 194.76.201.255:0\n",
      "Number of entries found for 217.76.99.223:1\n",
      "Results downloaded:  1\n",
      "Number of entries found for 217.76.104.151:1\n",
      "Results downloaded:  1\n",
      "Number of entries found for 195.37.186.31:1\n",
      "Results downloaded:  1\n",
      "Number of entries found for 195.37.186.191:1\n",
      "Results downloaded:  1\n",
      "Number of entries found for 141.17.255.255:1\n",
      "Results downloaded:  1\n",
      "Number of entries found for 194.8.220.223:1\n",
      "Results downloaded:  1\n",
      "Number of entries found for 193.174.175.255:1\n",
      "Results downloaded:  1\n",
      "Number of entries found for 194.76.151.255:1\n",
      "Results downloaded:  1\n",
      "Number of entries found for 194.156.223.255:1\n",
      "Results downloaded:  1\n",
      "Number of entries found for 195.126.31.255:1\n",
      "Results downloaded:  1\n",
      "Number of entries found for 80.146.186.87:0\n",
      "Number of entries found for 195.243.81.7:0\n",
      "Number of entries found for 194.94.103.255:1\n",
      "Results downloaded:  1\n",
      "Number of entries found for 195.37.131.255:1\n",
      "Results downloaded:  1\n",
      "Number of entries found for 81.14.180.135:1\n",
      "Results downloaded:  1\n",
      "Number of entries found for 192.108.34.255:1\n",
      "Results downloaded:  1\n",
      "Number of entries found for 193.22.115.255:1\n",
      "Results downloaded:  1\n",
      "Number of entries found for 91.221.59.255:1\n",
      "Results downloaded:  1\n",
      "Number of entries found for 195.37.144.255:1\n",
      "Results downloaded:  1\n",
      "Number of entries found for 195.37.101.255:1\n",
      "Results downloaded:  1\n"
     ]
    }
   ],
   "source": [
    "for institution, range_list in bund_nets.items():\n",
    "    for ip_range in range_list:\n",
    "        bund_data_end.append((get_data_for_ip(ip_range[1]), institution))"
   ]
  },
  {
   "cell_type": "code",
   "execution_count": 12,
   "metadata": {
    "collapsed": true
   },
   "outputs": [],
   "source": [
    "bund_data_end_parsed = [get_dict_from_res(x) for x in bund_data_end]\n",
    "\n",
    "bund_data_end_df = pd.DataFrame(bund_data_end_parsed)"
   ]
  },
  {
   "cell_type": "markdown",
   "metadata": {},
   "source": [
    "#### Compare the begining and ending range "
   ]
  },
  {
   "cell_type": "code",
   "execution_count": 13,
   "metadata": {
    "collapsed": true
   },
   "outputs": [],
   "source": [
    "bund_data_df['primary-key2'] = bund_data_end_df['primary-key']"
   ]
  },
  {
   "cell_type": "code",
   "execution_count": 14,
   "metadata": {
    "collapsed": true
   },
   "outputs": [],
   "source": [
    "bund_data_df['netname2'] = bund_data_end_df['netname']"
   ]
  },
  {
   "cell_type": "code",
   "execution_count": 15,
   "metadata": {
    "collapsed": true
   },
   "outputs": [],
   "source": [
    "# bund_data_df[bund_data_df['primary-key'] != bund_data_df['primary-key2']][['bund_networks', 'netname', 'descr', 'inetnum', 'netname2']]"
   ]
  },
  {
   "cell_type": "markdown",
   "metadata": {},
   "source": [
    "#### Wrong entries"
   ]
  },
  {
   "cell_type": "code",
   "execution_count": 16,
   "metadata": {
    "collapsed": true
   },
   "outputs": [],
   "source": [
    "wrong_ones = [13,14,15,16,25,26,27,35,41,46,56,68,70,88]"
   ]
  },
  {
   "cell_type": "code",
   "execution_count": 17,
   "metadata": {
    "collapsed": true
   },
   "outputs": [],
   "source": [
    "# bund_data_df[['bund_networks', 'descr', 'netname', 'org', 'inetnum']].head(53)"
   ]
  },
  {
   "cell_type": "code",
   "execution_count": 18,
   "metadata": {
    "collapsed": true
   },
   "outputs": [],
   "source": [
    "# bund_data_df[['bund_networks', 'descr', 'netname', 'org', 'inetnum']].tail(52)"
   ]
  },
  {
   "cell_type": "code",
   "execution_count": 19,
   "metadata": {
    "collapsed": true
   },
   "outputs": [],
   "source": [
    "# bund_data_df[pd.isnull(bund_data_df.country)]"
   ]
  },
  {
   "cell_type": "markdown",
   "metadata": {},
   "source": [
    "### Query ripe organizations"
   ]
  },
  {
   "cell_type": "code",
   "execution_count": 20,
   "metadata": {
    "collapsed": true
   },
   "outputs": [],
   "source": [
    "organizations = []\n",
    "with open('RIPE_organizations.txt') as query_t:\n",
    "    for line in query_t:\n",
    "        organizations.append(line.strip())"
   ]
  },
  {
   "cell_type": "code",
   "execution_count": 21,
   "metadata": {
    "collapsed": true
   },
   "outputs": [],
   "source": [
    "keywords = []\n",
    "with open('RIPE_api_query_terms.txt') as api_query_t:\n",
    "    for line in api_query_t:\n",
    "        keywords.append(line.strip())"
   ]
  },
  {
   "cell_type": "code",
   "execution_count": 10,
   "metadata": {
    "collapsed": true
   },
   "outputs": [],
   "source": [
    "def get_org_data(keyword):\n",
    "    headers = {'Accept': 'application/json'}\n",
    "    params = {\n",
    "        'facet': 'true',\n",
    "        'hl': 'true',\n",
    "        'q': '({})+AND+(object-type:organisation)'.format(keyword),\n",
    "        'start': '0',\n",
    "        'wt': 'json'\n",
    "    }\n",
    "    url = 'https://apps.db.ripe.net/db-web-ui/api/rest/fulltextsearch/select'\n",
    "    resp = r.get(url, headers=headers, params=params_no_enc(params))\n",
    "    data = resp.json()\n",
    "    new_data = data['result']['docs']\n",
    "    numFound = data['result']['numFound']\n",
    "    print(\"Number of entries found for {}:{}\".format(keyword, numFound))\n",
    "    if numFound == 0:\n",
    "        return []\n",
    "    for i in range(10,int(numFound)+1,10):\n",
    "        params['start'] = str(i)\n",
    "        resp = r.get(url, headers=headers, params=params_no_enc(params))\n",
    "        data = resp.json()\n",
    "        new_data.extend(data['result']['docs'])\n",
    "    print(\"Results downloaded: \", len(new_data))\n",
    "    time.sleep(1)\n",
    "    return new_data"
   ]
  },
  {
   "cell_type": "code",
   "execution_count": 11,
   "metadata": {
    "collapsed": true
   },
   "outputs": [],
   "source": [
    "def get_org_info(doc):\n",
    "    org_info = {}\n",
    "    doc =  doc['doc']['strs']\n",
    "    org_info['address'] = ''\n",
    "    for elem in doc:\n",
    "        if elem['str']['name'] == 'address':\n",
    "            org_info['address'] = org_info['address'] + elem['str']['value'] + '|'\n",
    "            continue\n",
    "        org_info[elem['str']['name']] = elem['str']['value']\n",
    "    return org_info"
   ]
  },
  {
   "cell_type": "code",
   "execution_count": 24,
   "metadata": {
    "collapsed": true
   },
   "outputs": [],
   "source": [
    "org_raw_data = []"
   ]
  },
  {
   "cell_type": "code",
   "execution_count": 25,
   "metadata": {},
   "outputs": [
    {
     "name": "stdout",
     "output_type": "stream",
     "text": [
      "Number of entries found for ORG-DB45-RIPE:1\n",
      "Results downloaded:  1\n",
      "Number of entries found for ORG-CA1591-RIPE:1\n",
      "Results downloaded:  1\n",
      "Number of entries found for ORG-KBS6-RIPE:1\n",
      "Results downloaded:  1\n",
      "Number of entries found for ORG-BD44-RIPE:1\n",
      "Results downloaded:  1\n",
      "Number of entries found for ORG-LW49-RIPE:1\n",
      "Results downloaded:  1\n",
      "Number of entries found for ORG-BL250-RIPE:1\n",
      "Results downloaded:  1\n",
      "Number of entries found for ORG-LFA24-RIPE:1\n",
      "Results downloaded:  1\n",
      "Number of entries found for ORG-BdI1-RIPE:1\n",
      "Results downloaded:  1\n",
      "Number of entries found for ORG-FA511-RIPE:1\n",
      "Results downloaded:  1\n",
      "Number of entries found for ORG-BFSU1-RIPE:1\n",
      "Results downloaded:  1\n",
      "Number of entries found for ORG-BAMF1-RIPE:1\n",
      "Results downloaded:  1\n",
      "Number of entries found for ORG-BA202-RIPE:1\n",
      "Results downloaded:  1\n",
      "Number of entries found for ORG-BDR2-RIPE:1\n",
      "Results downloaded:  1\n",
      "Number of entries found for ORG-BfKu1-RIPE:1\n",
      "Results downloaded:  1\n",
      "Number of entries found for ORG-BNTA1-RIPE:1\n",
      "Results downloaded:  1\n",
      "Number of entries found for ORG-BWI1-RIPE:1\n",
      "Results downloaded:  1\n",
      "Number of entries found for ORG-BfF1-RIPE:1\n",
      "Results downloaded:  1\n",
      "Number of entries found for ORG-UDBM2-RIPE:1\n",
      "Results downloaded:  1\n",
      "Number of entries found for ORG-BD44-RIPE:1\n",
      "Results downloaded:  1\n",
      "Number of entries found for ORG-BMV1-RIPE:1\n",
      "Results downloaded:  1\n",
      "Number of entries found for ORG-DB70-RIPE:1\n",
      "Results downloaded:  1\n",
      "Number of entries found for ORG-BVA15-RIPE:1\n",
      "Results downloaded:  1\n",
      "Number of entries found for ORG-BE20-RIPE:1\n",
      "Results downloaded:  1\n",
      "Number of entries found for ORG-ST167-RIPE:1\n",
      "Results downloaded:  1\n",
      "Number of entries found for ORG-BL254-RIPE:1\n",
      "Results downloaded:  1\n",
      "Number of entries found for ORG-LFA24-RIPE:1\n",
      "Results downloaded:  1\n",
      "Number of entries found for ORG-DW2-RIPE:1\n",
      "Results downloaded:  1\n",
      "Number of entries found for ORG-DPUM1-RIPE:1\n",
      "Results downloaded:  1\n",
      "Number of entries found for ORG-PA133-RIPE:1\n",
      "Results downloaded:  1\n",
      "CPU times: user 464 ms, sys: 44 ms, total: 508 ms\n",
      "Wall time: 35.7 s\n"
     ]
    }
   ],
   "source": [
    "%%time\n",
    "for org in organizations:\n",
    "    org_raw_data.extend(get_org_data(org))"
   ]
  },
  {
   "cell_type": "code",
   "execution_count": 26,
   "metadata": {},
   "outputs": [
    {
     "name": "stdout",
     "output_type": "stream",
     "text": [
      "Number of entries found for Bundesverfassungsgericht*:0\n",
      "Number of entries found for Bundesliegenschaft*:0\n",
      "Number of entries found for Bundesministerium*:9\n",
      "Results downloaded:  9\n",
      "Number of entries found for Bundes*:56\n",
      "Results downloaded:  56\n",
      "Number of entries found for Zoll*:38\n",
      "Results downloaded:  38\n",
      "Number of entries found for ministerium*:3\n",
      "Results downloaded:  3\n",
      "Number of entries found for bundes*amt:14\n",
      "Results downloaded:  14\n",
      "Number of entries found for bundes*institut:1\n",
      "Results downloaded:  1\n",
      "Number of entries found for bundes*anstalt:3\n",
      "Results downloaded:  3\n",
      "Number of entries found for bundes*agentur:3\n",
      "Results downloaded:  3\n",
      "Number of entries found for bundes*gericht:0\n",
      "Number of entries found for bundesamt:11\n",
      "Results downloaded:  11\n",
      "Number of entries found for bundesinstitut:0\n",
      "Number of entries found for bundesanstalt:2\n",
      "Results downloaded:  2\n",
      "Number of entries found for bundesagentur:1\n",
      "Results downloaded:  1\n",
      "Number of entries found for bundesgericht:0\n",
      "Number of entries found for Auswärtiges Amt:0\n",
      "Number of entries found for Zentrum für Informationsverarbeitung und Informationstechnik:0\n",
      "Number of entries found for Informationstechnikzentrum Bund:1\n",
      "Results downloaded:  1\n",
      "Number of entries found for Friedrich Loeffler Institut:1\n",
      "Results downloaded:  1\n",
      "Number of entries found for Johann Heinrich von Thünen Institut:0\n",
      "Number of entries found for Robert Koch Institut:0\n",
      "Number of entries found for Paul Ehrlich Institut:1\n",
      "Results downloaded:  1\n",
      "Number of entries found for Max Rubner Institut:0\n",
      "Number of entries found for Julius Kühn Institut:0\n",
      "Number of entries found for Deutsches Patent und Markenamt:1\n",
      "Results downloaded:  1\n",
      "Number of entries found for Generaldirektion Wasserstraßen und Schifffahrt:0\n",
      "Number of entries found for Generalzolldirektion:0\n",
      "Number of entries found for Bundesnetzagentur:2\n",
      "Results downloaded:  2\n",
      "Number of entries found for Bundeskanzleramt:1\n",
      "Results downloaded:  1\n",
      "Number of entries found for Umweltbundesamt:0\n",
      "Number of entries found for Zentrale Stelle für Informationstechnik im Sicherheitsbereich:0\n",
      "Number of entries found for Zollkriminalamt:0\n",
      "Number of entries found for Hauptzollämter:0\n",
      "Number of entries found for Deutscher Wetterdienst:1\n",
      "Results downloaded:  1\n",
      "Number of entries found for Deutsche Nationalbibliothek:0\n",
      "Number of entries found for Deutsches Archäologisches Institut:0\n",
      "Number of entries found for Bundeswehr:2\n",
      "Results downloaded:  2\n",
      "Number of entries found for Bundesamt:11\n",
      "Results downloaded:  11\n",
      "Number of entries found for Bundestag:1\n",
      "Results downloaded:  1\n",
      "Number of entries found for Bundestages:0\n",
      "Number of entries found for Bundeszentrale für politische Bildung:0\n",
      "Number of entries found for Gemeinsame Einrichtung des Bundes und der Küstenländer:0\n",
      "Number of entries found for Bundesarchiv:0\n",
      "Number of entries found for Bundesmonopolverwaltung für Branntwein:0\n",
      "Number of entries found for Bundesstelle für Flugunfalluntersuchung:0\n",
      "Number of entries found for Bundesnachrichtendienst:0\n",
      "Number of entries found for Bundespolizeipräsidium:1\n",
      "Results downloaded:  1\n",
      "Number of entries found for Bundesstelle für Seeunfalluntersuchung:0\n",
      "Number of entries found for Bundesprüfstelle für jugendgefährdende Medien:0\n",
      "Number of entries found for Bundeszentrale für gesundheitliche Aufklärung:0\n",
      "Number of entries found for Havariekommando Gemeinsame Einrichtung des Bundes und der Küstenländer:0\n",
      "Number of entries found for Zollämter:0\n",
      "Number of entries found for Zollfahndungsämter:0\n",
      "Number of entries found for Gemeinsame Einrichtung des Bundes und der Küstenländer:0\n",
      "Number of entries found for Ges. f. Entwicklung, Beschaffung u. Betrieb mbH:0\n",
      "CPU times: user 1.02 s, sys: 64 ms, total: 1.08 s\n",
      "Wall time: 40.6 s\n"
     ]
    }
   ],
   "source": [
    "%%time\n",
    "for kw in keywords:\n",
    "    org_raw_data.extend(get_org_data(kw))"
   ]
  },
  {
   "cell_type": "code",
   "execution_count": 27,
   "metadata": {
    "collapsed": true
   },
   "outputs": [],
   "source": [
    "orgs = [get_org_info(x) for x in org_raw_data] "
   ]
  },
  {
   "cell_type": "code",
   "execution_count": 28,
   "metadata": {
    "collapsed": true
   },
   "outputs": [],
   "source": [
    "orgs_df = pd.DataFrame(orgs)"
   ]
  },
  {
   "cell_type": "code",
   "execution_count": 33,
   "metadata": {
    "collapsed": true
   },
   "outputs": [],
   "source": [
    "org_query = list(orgs_df.organisation.unique())"
   ]
  },
  {
   "cell_type": "code",
   "execution_count": 34,
   "metadata": {
    "collapsed": true
   },
   "outputs": [],
   "source": [
    "org_query.extend(organizations)\n",
    "org_query = list(set(org_query))"
   ]
  },
  {
   "cell_type": "code",
   "execution_count": 35,
   "metadata": {
    "collapsed": true
   },
   "outputs": [],
   "source": [
    "with open('RIPE_orgs_query.txt', 'w') as fp:\n",
    "    for org in org_query:\n",
    "        fp.write(org + '\\n')"
   ]
  },
  {
   "cell_type": "code",
   "execution_count": 36,
   "metadata": {
    "collapsed": true
   },
   "outputs": [],
   "source": [
    "# org_query = []\n",
    "# with open('RIPE_orgs_query.txt') as fp:\n",
    "#     for line in fp:\n",
    "#         org_query.append(line.strip())"
   ]
  },
  {
   "cell_type": "markdown",
   "metadata": {},
   "source": [
    "### Query ripe for keywords"
   ]
  },
  {
   "cell_type": "code",
   "execution_count": 2,
   "metadata": {
    "collapsed": true
   },
   "outputs": [],
   "source": [
    "def get_raw_data(keyword):\n",
    "    headers = {'Accept': 'application/json'}\n",
    "    params = {\n",
    "        'facet': 'true',\n",
    "        'hl': 'true',\n",
    "        'q': '({})+AND+(country:(DE))+AND+(object-type:inet6num+OR+object-type:inetnum)'.format(keyword),\n",
    "#         'q': '(descr:({})+OR+netname:({}))+AND+(country:(DE))+AND+(object-type:inet6num+OR+object-type:inetnum)'.format(keyword, keyword),\n",
    "        'start': '0',\n",
    "        'wt': 'json'\n",
    "    }\n",
    "    url = 'https://apps.db.ripe.net/db-web-ui/api/rest/fulltextsearch/select'\n",
    "    resp = r.get(url, headers=headers, params=params_no_enc(params))\n",
    "    data = resp.json()\n",
    "    new_data = data['result']['docs']\n",
    "    numFound = data['result']['numFound']\n",
    "    print(\"Number of entries found for {}:{}\".format(keyword, numFound))\n",
    "    if numFound == 0:\n",
    "        return []\n",
    "    for i in range(10,int(numFound)+1,10):\n",
    "        params['start'] = str(i)\n",
    "        resp = r.get(url, headers=headers, params=params_no_enc(params))\n",
    "        data = resp.json()\n",
    "        new_data.extend(data['result']['docs'])\n",
    "    print(\"Results downloaded: \", len(new_data))\n",
    "    time.sleep(1)\n",
    "    return new_data"
   ]
  },
  {
   "cell_type": "code",
   "execution_count": 5,
   "metadata": {
    "collapsed": true
   },
   "outputs": [],
   "source": [
    "raw_res = []"
   ]
  },
  {
   "cell_type": "code",
   "execution_count": 3,
   "metadata": {
    "collapsed": true
   },
   "outputs": [],
   "source": [
    "keywords = ['CDU']"
   ]
  },
  {
   "cell_type": "code",
   "execution_count": 12,
   "metadata": {
    "scrolled": true
   },
   "outputs": [
    {
     "name": "stdout",
     "output_type": "stream",
     "text": [
      "Number of entries found for CDU:33\n",
      "Results downloaded:  33\n",
      "CPU times: user 64 ms, sys: 0 ns, total: 64 ms\n",
      "Wall time: 1.69 s\n"
     ]
    }
   ],
   "source": [
    "%%time\n",
    "for kw in keywords:\n",
    "    raw_res.extend(get_raw_data(kw))"
   ]
  },
  {
   "cell_type": "code",
   "execution_count": 40,
   "metadata": {},
   "outputs": [
    {
     "name": "stdout",
     "output_type": "stream",
     "text": [
      "Number of entries found for ORG-BMI1-RIPE:0\n",
      "Number of entries found for ORG-DSUE1-RIPE:1\n",
      "Results downloaded:  1\n",
      "Number of entries found for ORG-XA107-RIPE:0\n",
      "Number of entries found for ORG-BfA7-RIPE:2\n",
      "Results downloaded:  2\n",
      "Number of entries found for ORG-ANKD1-RIPE:1\n",
      "Results downloaded:  1\n",
      "Number of entries found for ORG-MV12-RIPE:1\n",
      "Results downloaded:  1\n",
      "Number of entries found for ORG-BL254-RIPE:1\n",
      "Results downloaded:  1\n",
      "Number of entries found for ORG-KB22-RIPE:2\n",
      "Results downloaded:  2\n",
      "Number of entries found for ORG-BFMU2-RIPE:0\n",
      "Number of entries found for ORG-BA381-RIPE:1\n",
      "Results downloaded:  1\n",
      "Number of entries found for ORG-BMV1-RIPE:62\n",
      "Results downloaded:  62\n",
      "Number of entries found for ORG-BE20-RIPE:2\n",
      "Results downloaded:  2\n",
      "Number of entries found for ORG-TNEG1-RIPE:1\n",
      "Results downloaded:  1\n",
      "Number of entries found for ORG-XG14-RIPE:14\n",
      "Results downloaded:  14\n",
      "Number of entries found for ORG-SFPS1-RIPE:0\n",
      "Number of entries found for ORG-HK8-RIPE:0\n",
      "Number of entries found for ORG-BPA18-RIPE:2\n",
      "Results downloaded:  2\n",
      "Number of entries found for ORG-SBS21-RIPE:0\n",
      "Number of entries found for ORG-BMB5-RIPE:0\n",
      "Number of entries found for ORG-BR48-RIPE:2\n",
      "Results downloaded:  2\n",
      "Number of entries found for ORG-PA133-RIPE:1\n",
      "Results downloaded:  1\n",
      "Number of entries found for ORG-DSP1-RIPE:0\n",
      "Number of entries found for ORG-BA796-RIPE:0\n",
      "Number of entries found for ORG-IA1487-RIPE:3\n",
      "Results downloaded:  3\n",
      "Number of entries found for ORG-BA438-RIPE:0\n",
      "Number of entries found for ORG-CA1591-RIPE:3\n",
      "Results downloaded:  3\n",
      "Number of entries found for ORG-AFMO1-RIPE:0\n",
      "Number of entries found for ORG-TSA108-RIPE:0\n",
      "Number of entries found for ORG-BFW1-RIPE:1\n",
      "Results downloaded:  1\n",
      "Number of entries found for ORG-DW2-RIPE:2\n",
      "Results downloaded:  2\n",
      "Number of entries found for ORG-PB103-RIPE:2\n",
      "Results downloaded:  2\n",
      "Number of entries found for ORG-JB83-RIPE:0\n",
      "Number of entries found for ORG-BVA15-RIPE:2\n",
      "Results downloaded:  2\n",
      "Number of entries found for ORG-ST167-RIPE:1\n",
      "Results downloaded:  1\n",
      "Number of entries found for ORG-BFMU1-RIPE:0\n",
      "Number of entries found for ORG-MSG8-RIPE:3\n",
      "Results downloaded:  3\n",
      "Number of entries found for ORG-AA1822-RIPE:0\n",
      "Number of entries found for ORG-BAMF1-RIPE:1\n",
      "Results downloaded:  1\n",
      "Number of entries found for ORG-BFIS1-RIPE:0\n",
      "Number of entries found for ORG-GFER1-RIPE:0\n",
      "Number of entries found for ORG-LFA24-RIPE:1\n",
      "Results downloaded:  1\n",
      "Number of entries found for ORG-BFSU1-RIPE:1\n",
      "Results downloaded:  1\n",
      "Number of entries found for ORG-FA511-RIPE:2\n",
      "Results downloaded:  2\n",
      "Number of entries found for ORG-BA201-RIPE:0\n",
      "Number of entries found for ORG-XA110-RIPE:0\n",
      "Number of entries found for ORG-BL250-RIPE:1\n",
      "Results downloaded:  1\n",
      "Number of entries found for ORG-MG165-RIPE:2\n",
      "Results downloaded:  2\n",
      "Number of entries found for ORG-BWI1-RIPE:1\n",
      "Results downloaded:  1\n",
      "Number of entries found for ORG-DB45-RIPE:6\n",
      "Results downloaded:  6\n",
      "Number of entries found for ORG-SFRB1-RIPE:0\n",
      "Number of entries found for ORG-DB70-RIPE:2\n",
      "Results downloaded:  2\n",
      "Number of entries found for ORG-BfG1-RIPE:0\n",
      "Number of entries found for ORG-LW49-RIPE:1\n",
      "Results downloaded:  1\n",
      "Number of entries found for ORG-NA474-RIPE:0\n",
      "Number of entries found for ORG-GG117-RIPE:1\n",
      "Results downloaded:  1\n",
      "Number of entries found for ORG-BNTA1-RIPE:2\n",
      "Results downloaded:  2\n",
      "Number of entries found for ORG-BA202-RIPE:1\n",
      "Results downloaded:  1\n",
      "Number of entries found for ORG-IVU1-RIPE:1\n",
      "Results downloaded:  1\n",
      "Number of entries found for ORG-OBOG1-RIPE:0\n",
      "Number of entries found for ORG-ZBAA1-RIPE:0\n",
      "Number of entries found for ORG-SA3938-RIPE:0\n",
      "Number of entries found for ORG-BdI1-RIPE:9\n",
      "Results downloaded:  9\n",
      "Number of entries found for ORG-ADAC2-RIPE:0\n",
      "Number of entries found for ORG-NSA84-RIPE:0\n",
      "Number of entries found for ORG-BfF1-RIPE:1\n",
      "Results downloaded:  1\n",
      "Number of entries found for ORG-BISG1-RIPE:0\n",
      "Number of entries found for ORG-Bfeu1-RIPE:0\n",
      "Number of entries found for ORG-JHVT1-RIPE:1\n",
      "Results downloaded:  1\n",
      "Number of entries found for ORG-BD44-RIPE:1\n",
      "Results downloaded:  1\n",
      "Number of entries found for ORG-RBA18-RIPE:0\n",
      "Number of entries found for ORG-NWL5-RIPE:1\n",
      "Results downloaded:  1\n",
      "Number of entries found for ORG-SBIE1-RIPE:1\n",
      "Results downloaded:  1\n",
      "Number of entries found for ORG-NJG1-RIPE:0\n",
      "Number of entries found for ORG-VIT1-RIPE:0\n",
      "Number of entries found for ORG-BfKu1-RIPE:1\n",
      "Results downloaded:  1\n",
      "Number of entries found for ORG-CG142-RIPE:0\n",
      "Number of entries found for ORG-AMJD1-RIPE:2\n",
      "Results downloaded:  2\n",
      "Number of entries found for ORG-BG12-RIPE:0\n",
      "Number of entries found for ORG-KJ47-RIPE:1\n",
      "Results downloaded:  1\n",
      "Number of entries found for ORG-ES307-RIPE:0\n",
      "Number of entries found for ORG-BFF1-RIPE:1\n",
      "Results downloaded:  1\n",
      "Number of entries found for ORG-CC100-RIPE:1\n",
      "Results downloaded:  1\n",
      "Number of entries found for ORG-SR146-RIPE:0\n",
      "Number of entries found for ORG-ZIaC1-RIPE:0\n",
      "Number of entries found for ORG-OBHG1-RIPE:0\n",
      "Number of entries found for ORG-SBB1-RIPE:0\n",
      "Number of entries found for ORG-BDR2-RIPE:2\n",
      "Results downloaded:  2\n",
      "Number of entries found for ORG-BA446-RIPE:1\n",
      "Results downloaded:  1\n",
      "Number of entries found for ORG-UDBM2-RIPE:1\n",
      "Results downloaded:  1\n",
      "Number of entries found for ORG-SASB2-RIPE:0\n",
      "Number of entries found for ORG-DA354-RIPE:2\n",
      "Results downloaded:  2\n",
      "Number of entries found for ORG-KBS6-RIPE:2\n",
      "Results downloaded:  2\n",
      "Number of entries found for ORG-NDB2-RIPE:8\n",
      "Results downloaded:  8\n",
      "Number of entries found for ORG-DPUM1-RIPE:1\n",
      "Results downloaded:  1\n",
      "CPU times: user 1.86 s, sys: 68 ms, total: 1.93 s\n",
      "Wall time: 1min 16s\n"
     ]
    }
   ],
   "source": [
    "%%time\n",
    "for org in org_query:\n",
    "    raw_res.extend(get_raw_data(org))"
   ]
  },
  {
   "cell_type": "code",
   "execution_count": 13,
   "metadata": {
    "collapsed": true
   },
   "outputs": [],
   "source": [
    "def get_ip_range(doc):\n",
    "    ip_range = {}\n",
    "    doc =  doc['doc']['strs']\n",
    "    ip_range['descr'] = ''\n",
    "    for elem in doc:\n",
    "        if elem['str']['name'] == 'descr':\n",
    "            ip_range['descr'] = ip_range['descr'] + elem['str']['value'] + '|'\n",
    "            continue\n",
    "        ip_range[elem['str']['name']] = elem['str']['value']\n",
    "    return ip_range"
   ]
  },
  {
   "cell_type": "code",
   "execution_count": 14,
   "metadata": {
    "collapsed": true
   },
   "outputs": [],
   "source": [
    "ranges = [get_ip_range(x) for x in raw_res]"
   ]
  },
  {
   "cell_type": "code",
   "execution_count": 15,
   "metadata": {
    "collapsed": true
   },
   "outputs": [],
   "source": [
    "ranges_df = pd.DataFrame(ranges)"
   ]
  },
  {
   "cell_type": "code",
   "execution_count": 16,
   "metadata": {},
   "outputs": [
    {
     "data": {
      "text/plain": [
       "(33, 17)"
      ]
     },
     "execution_count": 16,
     "metadata": {},
     "output_type": "execute_result"
    }
   ],
   "source": [
    "ranges_df.shape"
   ]
  },
  {
   "cell_type": "code",
   "execution_count": 45,
   "metadata": {},
   "outputs": [
    {
     "data": {
      "text/html": [
       "<div>\n",
       "<style>\n",
       "    .dataframe thead tr:only-child th {\n",
       "        text-align: right;\n",
       "    }\n",
       "\n",
       "    .dataframe thead th {\n",
       "        text-align: left;\n",
       "    }\n",
       "\n",
       "    .dataframe tbody tr th {\n",
       "        vertical-align: top;\n",
       "    }\n",
       "</style>\n",
       "<table border=\"1\" class=\"dataframe\">\n",
       "  <thead>\n",
       "    <tr style=\"text-align: right;\">\n",
       "      <th></th>\n",
       "      <th>descr</th>\n",
       "      <th>inet6num</th>\n",
       "      <th>inetnum</th>\n",
       "      <th>netname</th>\n",
       "    </tr>\n",
       "  </thead>\n",
       "  <tbody>\n",
       "    <tr>\n",
       "      <th>0</th>\n",
       "      <td>Bundesverfassungsgericht|Karlsruhe, Germany|</td>\n",
       "      <td>NaN</td>\n",
       "      <td>193.197.84.0 - 193.197.84.7</td>\n",
       "      <td>BVG-KARLSRUHE</td>\n",
       "    </tr>\n",
       "    <tr>\n",
       "      <th>16</th>\n",
       "      <td>TSI fuer Bundeskanzleramt|</td>\n",
       "      <td>2003:44:e03b::/48</td>\n",
       "      <td>NaN</td>\n",
       "      <td>BUNDESLIEGENSCHAFT-BERLIN-NET10</td>\n",
       "    </tr>\n",
       "    <tr>\n",
       "      <th>99</th>\n",
       "      <td>TSI fuer Bundeskanzleramt|</td>\n",
       "      <td>NaN</td>\n",
       "      <td>62.159.122.232 - 62.159.122.239</td>\n",
       "      <td>BUNDESLIEGENSCHAFT-BERLIN-NET10</td>\n",
       "    </tr>\n",
       "    <tr>\n",
       "      <th>100</th>\n",
       "      <td>TSI fuer Bundesministerium fuerWirtschaft und ...</td>\n",
       "      <td>2003:45:c05c::/48</td>\n",
       "      <td>NaN</td>\n",
       "      <td>BUNDESMINISTERIUM-FUER-WIRTSCHAFT-U-TECHNIK-BO...</td>\n",
       "    </tr>\n",
       "    <tr>\n",
       "      <th>101</th>\n",
       "      <td>TSI fuer Bundesministerium derFinanzen|</td>\n",
       "      <td>2003:51:603c::/48</td>\n",
       "      <td>NaN</td>\n",
       "      <td>ZID-DER-BUNDESFINANZVERWALTUNG-FRANKFURT-NET</td>\n",
       "    </tr>\n",
       "  </tbody>\n",
       "</table>\n",
       "</div>"
      ],
      "text/plain": [
       "                                                 descr           inet6num  \\\n",
       "0         Bundesverfassungsgericht|Karlsruhe, Germany|                NaN   \n",
       "16                          TSI fuer Bundeskanzleramt|  2003:44:e03b::/48   \n",
       "99                          TSI fuer Bundeskanzleramt|                NaN   \n",
       "100  TSI fuer Bundesministerium fuerWirtschaft und ...  2003:45:c05c::/48   \n",
       "101            TSI fuer Bundesministerium derFinanzen|  2003:51:603c::/48   \n",
       "\n",
       "                             inetnum  \\\n",
       "0        193.197.84.0 - 193.197.84.7   \n",
       "16                               NaN   \n",
       "99   62.159.122.232 - 62.159.122.239   \n",
       "100                              NaN   \n",
       "101                              NaN   \n",
       "\n",
       "                                               netname  \n",
       "0                                        BVG-KARLSRUHE  \n",
       "16                     BUNDESLIEGENSCHAFT-BERLIN-NET10  \n",
       "99                     BUNDESLIEGENSCHAFT-BERLIN-NET10  \n",
       "100  BUNDESMINISTERIUM-FUER-WIRTSCHAFT-U-TECHNIK-BO...  \n",
       "101       ZID-DER-BUNDESFINANZVERWALTUNG-FRANKFURT-NET  "
      ]
     },
     "execution_count": 45,
     "metadata": {},
     "output_type": "execute_result"
    }
   ],
   "source": [
    "ranges_df[ranges_df.descr.str.contains('Bundes')][['descr', 'inet6num', 'inetnum', 'netname']].head()"
   ]
  },
  {
   "cell_type": "code",
   "execution_count": 17,
   "metadata": {},
   "outputs": [
    {
     "name": "stdout",
     "output_type": "stream",
     "text": [
      "(33, 17)\n",
      "(25, 17)\n"
     ]
    }
   ],
   "source": [
    "print(ranges_df.shape)\n",
    "\n",
    "ranges_df = ranges_df.drop_duplicates(subset='primary-key')\n",
    "\n",
    "print(ranges_df.shape)"
   ]
  },
  {
   "cell_type": "code",
   "execution_count": 47,
   "metadata": {
    "collapsed": true
   },
   "outputs": [],
   "source": [
    "regexes = []\n",
    "with open('RIPE_regex_terms_RIPE.txt') as query_t:\n",
    "    for line in query_t:\n",
    "        regexes.append(line.strip())"
   ]
  },
  {
   "cell_type": "code",
   "execution_count": 48,
   "metadata": {
    "collapsed": true
   },
   "outputs": [],
   "source": [
    "def match_against_regexes(descr):\n",
    "    if type(descr) != str:\n",
    "        return False\n",
    "    for reg in regexes:\n",
    "        try:\n",
    "            if re.compile(reg, re.IGNORECASE).search(descr):\n",
    "                return True\n",
    "        except TypeError:\n",
    "            traceback.print_exc()\n",
    "            print(reg)\n",
    "            print(descr)\n",
    "    return False"
   ]
  },
  {
   "cell_type": "code",
   "execution_count": 49,
   "metadata": {
    "collapsed": true
   },
   "outputs": [],
   "source": [
    "def match_against_api_terms(descr):\n",
    "    for reg in keywords:\n",
    "        try:\n",
    "            if re.compile(reg, re.IGNORECASE).search(descr):\n",
    "                return True\n",
    "        except TypeError:\n",
    "            traceback.print_exc()\n",
    "            print(reg)\n",
    "            print(descr)\n",
    "    return False"
   ]
  },
  {
   "cell_type": "code",
   "execution_count": 50,
   "metadata": {
    "collapsed": true
   },
   "outputs": [],
   "source": [
    "def match_against_organizations(descr):\n",
    "    if type(descr) != str:\n",
    "        return False\n",
    "    for org in organizations:\n",
    "        try:\n",
    "            if re.compile(org, re.IGNORECASE).search(descr):\n",
    "                return True\n",
    "        except TypeError:\n",
    "            traceback.print_exc()\n",
    "            print(org)\n",
    "            print(descr)\n",
    "    return False"
   ]
  },
  {
   "cell_type": "code",
   "execution_count": 51,
   "metadata": {},
   "outputs": [
    {
     "name": "stdout",
     "output_type": "stream",
     "text": [
      "(1445, 23)\n"
     ]
    }
   ],
   "source": [
    "print(ranges_df.shape)"
   ]
  },
  {
   "cell_type": "code",
   "execution_count": 52,
   "metadata": {
    "collapsed": true
   },
   "outputs": [],
   "source": [
    "ranges_df['matched_descr'] = ranges_df['descr'].apply(match_against_regexes)"
   ]
  },
  {
   "cell_type": "code",
   "execution_count": 53,
   "metadata": {
    "collapsed": true
   },
   "outputs": [],
   "source": [
    "ranges_df['matched_netname'] = ranges_df['netname'].apply(match_against_regexes)"
   ]
  },
  {
   "cell_type": "code",
   "execution_count": 54,
   "metadata": {
    "collapsed": true
   },
   "outputs": [],
   "source": [
    "ranges_df['matched_org'] = ranges_df['org'].apply(match_against_organizations)"
   ]
  },
  {
   "cell_type": "code",
   "execution_count": 55,
   "metadata": {
    "collapsed": true
   },
   "outputs": [],
   "source": [
    "ranges_df['matched'] = ranges_df['matched_descr'] | ranges_df['matched_netname'] | ranges_df['matched_org']"
   ]
  },
  {
   "cell_type": "code",
   "execution_count": 56,
   "metadata": {},
   "outputs": [
    {
     "data": {
      "text/html": [
       "<div>\n",
       "<style>\n",
       "    .dataframe thead tr:only-child th {\n",
       "        text-align: right;\n",
       "    }\n",
       "\n",
       "    .dataframe thead th {\n",
       "        text-align: left;\n",
       "    }\n",
       "\n",
       "    .dataframe tbody tr th {\n",
       "        vertical-align: top;\n",
       "    }\n",
       "</style>\n",
       "<table border=\"1\" class=\"dataframe\">\n",
       "  <thead>\n",
       "    <tr style=\"text-align: right;\">\n",
       "      <th></th>\n",
       "      <th>descr</th>\n",
       "      <th>netname</th>\n",
       "      <th>org</th>\n",
       "      <th>matched_descr</th>\n",
       "      <th>matched_netname</th>\n",
       "      <th>matched_org</th>\n",
       "      <th>matched</th>\n",
       "    </tr>\n",
       "  </thead>\n",
       "  <tbody>\n",
       "    <tr>\n",
       "      <th>658</th>\n",
       "      <td>Bundesanstalt fuer Gewaesserkunde|Koblenz|</td>\n",
       "      <td>BFG-NET</td>\n",
       "      <td>NaN</td>\n",
       "      <td>True</td>\n",
       "      <td>False</td>\n",
       "      <td>False</td>\n",
       "      <td>True</td>\n",
       "    </tr>\n",
       "    <tr>\n",
       "      <th>1140</th>\n",
       "      <td>Bildungszentrum der Bundesfinanzverwaltung Mue...</td>\n",
       "      <td>BWZ-VIT-MUENSTER-NET</td>\n",
       "      <td>NaN</td>\n",
       "      <td>False</td>\n",
       "      <td>False</td>\n",
       "      <td>False</td>\n",
       "      <td>False</td>\n",
       "    </tr>\n",
       "    <tr>\n",
       "      <th>1497</th>\n",
       "      <td>Zollkriminalamt|Bergisch-Gladbacher-Str. 837|D...</td>\n",
       "      <td>ZKAIB-NET</td>\n",
       "      <td>NaN</td>\n",
       "      <td>True</td>\n",
       "      <td>False</td>\n",
       "      <td>False</td>\n",
       "      <td>True</td>\n",
       "    </tr>\n",
       "    <tr>\n",
       "      <th>181</th>\n",
       "      <td>Volleyball Bundesliga GmbH|</td>\n",
       "      <td>VOLLEYBALL-BUNDESLIGA-BERLIN-NET</td>\n",
       "      <td>NaN</td>\n",
       "      <td>False</td>\n",
       "      <td>False</td>\n",
       "      <td>False</td>\n",
       "      <td>False</td>\n",
       "    </tr>\n",
       "    <tr>\n",
       "      <th>113</th>\n",
       "      <td>Bundesministerium fuer Umwelt, Naturschutz, Ba...</td>\n",
       "      <td>BMU-LAN</td>\n",
       "      <td>NaN</td>\n",
       "      <td>True</td>\n",
       "      <td>False</td>\n",
       "      <td>False</td>\n",
       "      <td>True</td>\n",
       "    </tr>\n",
       "  </tbody>\n",
       "</table>\n",
       "</div>"
      ],
      "text/plain": [
       "                                                  descr  \\\n",
       "658          Bundesanstalt fuer Gewaesserkunde|Koblenz|   \n",
       "1140  Bildungszentrum der Bundesfinanzverwaltung Mue...   \n",
       "1497  Zollkriminalamt|Bergisch-Gladbacher-Str. 837|D...   \n",
       "181                         Volleyball Bundesliga GmbH|   \n",
       "113   Bundesministerium fuer Umwelt, Naturschutz, Ba...   \n",
       "\n",
       "                               netname  org  matched_descr  matched_netname  \\\n",
       "658                            BFG-NET  NaN           True            False   \n",
       "1140              BWZ-VIT-MUENSTER-NET  NaN          False            False   \n",
       "1497                         ZKAIB-NET  NaN           True            False   \n",
       "181   VOLLEYBALL-BUNDESLIGA-BERLIN-NET  NaN          False            False   \n",
       "113                            BMU-LAN  NaN           True            False   \n",
       "\n",
       "      matched_org  matched  \n",
       "658         False     True  \n",
       "1140        False    False  \n",
       "1497        False     True  \n",
       "181         False    False  \n",
       "113         False     True  "
      ]
     },
     "execution_count": 56,
     "metadata": {},
     "output_type": "execute_result"
    }
   ],
   "source": [
    "ranges_df[['descr', 'netname', 'org', 'matched_descr', 'matched_netname', 'matched_org', 'matched']].sample(5)"
   ]
  },
  {
   "cell_type": "code",
   "execution_count": 18,
   "metadata": {
    "collapsed": true
   },
   "outputs": [],
   "source": [
    "def create_name(row):\n",
    "    name = ''\n",
    "    if row['matched_descr']:\n",
    "        name+= row['descr'] + '|'\n",
    "    if row['matched_netname']:\n",
    "        name+= row['netname'] + '|'\n",
    "    if row['matched_org']:\n",
    "        name+= row['org'] + '|'\n",
    "    return name"
   ]
  },
  {
   "cell_type": "code",
   "execution_count": null,
   "metadata": {},
   "outputs": [],
   "source": [
    "ranges_df['name'] = ranges_df.apply(lambda x: create_name(x), axis=1)"
   ]
  },
  {
   "cell_type": "code",
   "execution_count": 59,
   "metadata": {
    "collapsed": true
   },
   "outputs": [],
   "source": [
    "ranges_df[ranges_df.matched==True]['name'].value_counts().to_csv('RIPE_matched_descriptions.csv')"
   ]
  },
  {
   "cell_type": "code",
   "execution_count": 60,
   "metadata": {
    "collapsed": true
   },
   "outputs": [],
   "source": [
    "ranges_df[ranges_df.matched==False][['descr', 'netname']].to_csv('RIPE_unmatched_descriptions.csv')"
   ]
  },
  {
   "cell_type": "code",
   "execution_count": 61,
   "metadata": {},
   "outputs": [
    {
     "name": "stdout",
     "output_type": "stream",
     "text": [
      "(876, 28)\n"
     ]
    }
   ],
   "source": [
    "print(ranges_df[ranges_df.matched==True].shape)"
   ]
  },
  {
   "cell_type": "markdown",
   "metadata": {},
   "source": [
    "### Check if the regexes are good"
   ]
  },
  {
   "cell_type": "code",
   "execution_count": 62,
   "metadata": {
    "collapsed": true
   },
   "outputs": [],
   "source": [
    "wiki_df = pd.read_html('https://de.wikipedia.org/wiki/Liste_der_deutschen_Bundesbeh%C3%B6rden')"
   ]
  },
  {
   "cell_type": "code",
   "execution_count": 63,
   "metadata": {},
   "outputs": [
    {
     "data": {
      "text/plain": [
       "array([], dtype=object)"
      ]
     },
     "execution_count": 63,
     "metadata": {},
     "output_type": "execute_result"
    }
   ],
   "source": [
    "wiki_df1 = wiki_df[0]\n",
    "wiki_df1.columns = wiki_df1.loc[0]\n",
    "\n",
    "wiki_df2 = wiki_df[1]\n",
    "wiki_df2.columns = wiki_df2.loc[0]\n",
    "\n",
    "wiki_df1 = wiki_df1.drop(0, axis=0)\n",
    "wiki_df2 = wiki_df2.drop(0, axis=0)\n",
    "\n",
    "to_match = list(wiki_df1.Name)\n",
    "to_match.extend(list(wiki_df1.Aufsichtsbehörde))\n",
    "to_match.extend(list(wiki_df2.Name))\n",
    "to_match.extend(list(wiki_df2.Aufsichtsbehörde))\n",
    "\n",
    "to_match = pd.DataFrame(to_match).dropna()\n",
    "\n",
    "to_match['matched_regex'] = to_match[0].apply(match_against_regexes)\n",
    "\n",
    "to_match[to_match.matched_regex == False][0].values"
   ]
  },
  {
   "cell_type": "markdown",
   "metadata": {},
   "source": [
    "### Check if the query terms cover all wikipedia entries"
   ]
  },
  {
   "cell_type": "code",
   "execution_count": 64,
   "metadata": {},
   "outputs": [
    {
     "data": {
      "text/plain": [
       "array(['Deutsches Patent- und Markenamt'], dtype=object)"
      ]
     },
     "execution_count": 64,
     "metadata": {},
     "output_type": "execute_result"
    }
   ],
   "source": [
    "to_match['matched_api'] = to_match[0].apply(match_against_api_terms)\n",
    "\n",
    "to_match[to_match.matched_api == False][0].values"
   ]
  },
  {
   "cell_type": "markdown",
   "metadata": {},
   "source": [
    "### Save end result to file"
   ]
  },
  {
   "cell_type": "code",
   "execution_count": 65,
   "metadata": {
    "collapsed": true
   },
   "outputs": [],
   "source": [
    "ranges_df.loc[ranges_df.matched == True, ['inet6num', 'name', 'inetnum', 'primary-key']].to_csv(\"RIPE_ip_ranges.csv\")"
   ]
  },
  {
   "cell_type": "code",
   "execution_count": 66,
   "metadata": {},
   "outputs": [
    {
     "data": {
      "text/plain": [
       "(876, 28)"
      ]
     },
     "execution_count": 66,
     "metadata": {},
     "output_type": "execute_result"
    }
   ],
   "source": [
    "ranges_df.loc[ranges_df.matched == True].shape"
   ]
  },
  {
   "cell_type": "code",
   "execution_count": 67,
   "metadata": {
    "collapsed": true
   },
   "outputs": [],
   "source": [
    "# (890, 29)"
   ]
  },
  {
   "cell_type": "code",
   "execution_count": 23,
   "metadata": {},
   "outputs": [
    {
     "data": {
      "text/html": [
       "<div>\n",
       "<style>\n",
       "    .dataframe thead tr:only-child th {\n",
       "        text-align: right;\n",
       "    }\n",
       "\n",
       "    .dataframe thead th {\n",
       "        text-align: left;\n",
       "    }\n",
       "\n",
       "    .dataframe tbody tr th {\n",
       "        vertical-align: top;\n",
       "    }\n",
       "</style>\n",
       "<table border=\"1\" class=\"dataframe\">\n",
       "  <thead>\n",
       "    <tr style=\"text-align: right;\">\n",
       "      <th></th>\n",
       "      <th>admin-c</th>\n",
       "      <th>country</th>\n",
       "      <th>created</th>\n",
       "      <th>descr</th>\n",
       "      <th>inet6num</th>\n",
       "      <th>inetnum</th>\n",
       "      <th>last-modified</th>\n",
       "      <th>lookup-key</th>\n",
       "      <th>mnt-by</th>\n",
       "      <th>mnt-lower</th>\n",
       "      <th>netname</th>\n",
       "      <th>notify</th>\n",
       "      <th>object-type</th>\n",
       "      <th>primary-key</th>\n",
       "      <th>remarks</th>\n",
       "      <th>status</th>\n",
       "      <th>tech-c</th>\n",
       "    </tr>\n",
       "  </thead>\n",
       "  <tbody>\n",
       "    <tr>\n",
       "      <th>0</th>\n",
       "      <td>GB19250-RIPE</td>\n",
       "      <td>DE</td>\n",
       "      <td>2016-01-25T13:31:49Z</td>\n",
       "      <td>TSI fuer CDU-Bundesgeschaefts- st. Konrad-Aden...</td>\n",
       "      <td>2003:46:e033::/48</td>\n",
       "      <td>NaN</td>\n",
       "      <td>2016-01-25T13:31:49Z</td>\n",
       "      <td>2003:46:e033::/48</td>\n",
       "      <td>DTAG-NIC</td>\n",
       "      <td>NaN</td>\n",
       "      <td>UNION-BETRIEBS-RHEINBACH-NET</td>\n",
       "      <td>auftrag@nic.telekom.de</td>\n",
       "      <td>inet6num</td>\n",
       "      <td>15743813</td>\n",
       "      <td>NaN</td>\n",
       "      <td>ASSIGNED</td>\n",
       "      <td>GB19250-RIPE</td>\n",
       "    </tr>\n",
       "    <tr>\n",
       "      <th>1</th>\n",
       "      <td>VTO-RIPE</td>\n",
       "      <td>DE</td>\n",
       "      <td>1970-01-01T00:00:00Z</td>\n",
       "      <td>CDU Landesverband Rheinland-Pfalz|Rheinallee 1...</td>\n",
       "      <td>NaN</td>\n",
       "      <td>213.139.133.208 - 213.139.133.223</td>\n",
       "      <td>2009-03-20T13:45:51Z</td>\n",
       "      <td>213.139.133.208 - 213.139.133.223</td>\n",
       "      <td>VT-MNT</td>\n",
       "      <td>NaN</td>\n",
       "      <td>CUSTOMER-NET-MZK-10150</td>\n",
       "      <td>NaN</td>\n",
       "      <td>inetnum</td>\n",
       "      <td>421117</td>\n",
       "      <td>NaN</td>\n",
       "      <td>ASSIGNED PA</td>\n",
       "      <td>VTO-RIPE</td>\n",
       "    </tr>\n",
       "    <tr>\n",
       "      <th>2</th>\n",
       "      <td>VTO-RIPE</td>\n",
       "      <td>DE</td>\n",
       "      <td>2003-05-20T15:31:28Z</td>\n",
       "      <td>CDU Landesverband Hessen|Frankfurter Strasse 6...</td>\n",
       "      <td>NaN</td>\n",
       "      <td>213.139.151.128 - 213.139.151.143</td>\n",
       "      <td>2008-10-30T16:10:52Z</td>\n",
       "      <td>213.139.151.128 - 213.139.151.143</td>\n",
       "      <td>VT-MNT</td>\n",
       "      <td>VT-GARBAGE-MNT</td>\n",
       "      <td>VT-CUSTOMER-S-6515014</td>\n",
       "      <td>NaN</td>\n",
       "      <td>inetnum</td>\n",
       "      <td>2187984</td>\n",
       "      <td>NaN</td>\n",
       "      <td>ASSIGNED PA</td>\n",
       "      <td>VTO-RIPE</td>\n",
       "    </tr>\n",
       "    <tr>\n",
       "      <th>3</th>\n",
       "      <td>HGN12-RIPE</td>\n",
       "      <td>DE</td>\n",
       "      <td>2003-01-16T04:00:15Z</td>\n",
       "      <td>CDU FRAKTION DER BREMISCHEN BUERGERSCHAFT|</td>\n",
       "      <td>NaN</td>\n",
       "      <td>217.110.149.48 - 217.110.149.55</td>\n",
       "      <td>2010-10-26T12:54:57Z</td>\n",
       "      <td>217.110.149.48 - 217.110.149.55</td>\n",
       "      <td>DE-COLT-MNT</td>\n",
       "      <td>NaN</td>\n",
       "      <td>NET-DE-CDU-FRAKTION-DER-BREMISCHEN-BUERGERSCHAFT</td>\n",
       "      <td>NaN</td>\n",
       "      <td>inetnum</td>\n",
       "      <td>1992719</td>\n",
       "      <td>notify eu-ripemaster@colt.net</td>\n",
       "      <td>ASSIGNED PA</td>\n",
       "      <td>HGN12-RIPE</td>\n",
       "    </tr>\n",
       "    <tr>\n",
       "      <th>4</th>\n",
       "      <td>QSC1-RIPE</td>\n",
       "      <td>DE</td>\n",
       "      <td>2005-08-05T01:31:43Z</td>\n",
       "      <td>CDU-Hamburg Landesverband|</td>\n",
       "      <td>NaN</td>\n",
       "      <td>83.236.232.216 - 83.236.232.223</td>\n",
       "      <td>2017-12-02T02:32:39Z</td>\n",
       "      <td>83.236.232.216 - 83.236.232.223</td>\n",
       "      <td>QSC-NOC</td>\n",
       "      <td>QSC-NOC</td>\n",
       "      <td>QSC-CUSTOMER-552415-1025787</td>\n",
       "      <td>NaN</td>\n",
       "      <td>inetnum</td>\n",
       "      <td>3856603</td>\n",
       "      <td>NaN</td>\n",
       "      <td>ASSIGNED PA</td>\n",
       "      <td>QSC1-RIPE</td>\n",
       "    </tr>\n",
       "  </tbody>\n",
       "</table>\n",
       "</div>"
      ],
      "text/plain": [
       "        admin-c country               created  \\\n",
       "0  GB19250-RIPE      DE  2016-01-25T13:31:49Z   \n",
       "1      VTO-RIPE      DE  1970-01-01T00:00:00Z   \n",
       "2      VTO-RIPE      DE  2003-05-20T15:31:28Z   \n",
       "3    HGN12-RIPE      DE  2003-01-16T04:00:15Z   \n",
       "4     QSC1-RIPE      DE  2005-08-05T01:31:43Z   \n",
       "\n",
       "                                               descr           inet6num  \\\n",
       "0  TSI fuer CDU-Bundesgeschaefts- st. Konrad-Aden...  2003:46:e033::/48   \n",
       "1  CDU Landesverband Rheinland-Pfalz|Rheinallee 1...                NaN   \n",
       "2  CDU Landesverband Hessen|Frankfurter Strasse 6...                NaN   \n",
       "3         CDU FRAKTION DER BREMISCHEN BUERGERSCHAFT|                NaN   \n",
       "4                         CDU-Hamburg Landesverband|                NaN   \n",
       "\n",
       "                             inetnum         last-modified  \\\n",
       "0                                NaN  2016-01-25T13:31:49Z   \n",
       "1  213.139.133.208 - 213.139.133.223  2009-03-20T13:45:51Z   \n",
       "2  213.139.151.128 - 213.139.151.143  2008-10-30T16:10:52Z   \n",
       "3    217.110.149.48 - 217.110.149.55  2010-10-26T12:54:57Z   \n",
       "4    83.236.232.216 - 83.236.232.223  2017-12-02T02:32:39Z   \n",
       "\n",
       "                          lookup-key       mnt-by       mnt-lower  \\\n",
       "0                  2003:46:e033::/48     DTAG-NIC             NaN   \n",
       "1  213.139.133.208 - 213.139.133.223       VT-MNT             NaN   \n",
       "2  213.139.151.128 - 213.139.151.143       VT-MNT  VT-GARBAGE-MNT   \n",
       "3    217.110.149.48 - 217.110.149.55  DE-COLT-MNT             NaN   \n",
       "4    83.236.232.216 - 83.236.232.223      QSC-NOC         QSC-NOC   \n",
       "\n",
       "                                            netname                  notify  \\\n",
       "0                      UNION-BETRIEBS-RHEINBACH-NET  auftrag@nic.telekom.de   \n",
       "1                            CUSTOMER-NET-MZK-10150                     NaN   \n",
       "2                             VT-CUSTOMER-S-6515014                     NaN   \n",
       "3  NET-DE-CDU-FRAKTION-DER-BREMISCHEN-BUERGERSCHAFT                     NaN   \n",
       "4                       QSC-CUSTOMER-552415-1025787                     NaN   \n",
       "\n",
       "  object-type primary-key                        remarks       status  \\\n",
       "0    inet6num    15743813                            NaN     ASSIGNED   \n",
       "1     inetnum      421117                            NaN  ASSIGNED PA   \n",
       "2     inetnum     2187984                            NaN  ASSIGNED PA   \n",
       "3     inetnum     1992719  notify eu-ripemaster@colt.net  ASSIGNED PA   \n",
       "4     inetnum     3856603                            NaN  ASSIGNED PA   \n",
       "\n",
       "         tech-c  \n",
       "0  GB19250-RIPE  \n",
       "1      VTO-RIPE  \n",
       "2      VTO-RIPE  \n",
       "3    HGN12-RIPE  \n",
       "4     QSC1-RIPE  "
      ]
     },
     "execution_count": 23,
     "metadata": {},
     "output_type": "execute_result"
    }
   ],
   "source": [
    "ranges_df.head()"
   ]
  },
  {
   "cell_type": "code",
   "execution_count": 24,
   "metadata": {},
   "outputs": [],
   "source": [
    "ranges_df[['inet6num', 'inetnum', 'primary-key']].to_csv(\"CDU_ip_ranges.csv\")"
   ]
  }
 ],
 "metadata": {
  "kernelspec": {
   "display_name": "Python [conda env:cwwa3]",
   "language": "python",
   "name": "conda-env-cwwa3-py"
  },
  "language_info": {
   "codemirror_mode": {
    "name": "ipython",
    "version": 3
   },
   "file_extension": ".py",
   "mimetype": "text/x-python",
   "name": "python",
   "nbconvert_exporter": "python",
   "pygments_lexer": "ipython3",
   "version": "3.5.3"
  },
  "toc": {
   "nav_menu": {
    "height": "12px",
    "width": "252px"
   },
   "navigate_menu": true,
   "number_sections": true,
   "sideBar": true,
   "threshold": 4,
   "toc_cell": false,
   "toc_section_display": "block",
   "toc_window_display": false
  }
 },
 "nbformat": 4,
 "nbformat_minor": 2
}
